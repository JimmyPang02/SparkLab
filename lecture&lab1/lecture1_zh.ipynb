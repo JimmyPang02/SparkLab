{
 "cells": [
  {
   "cell_type": "markdown",
   "metadata": {},
   "source": [
    "# Python 简介\n",
    "Python 是一种高级、解释型、通用的编程语言。其设计哲学强调代码的可读性，并使用缩进来划分代码块。\n",
    "\n",
    "## 运行 Python 脚本\n",
    "你可以通过多种方式运行 Python 脚本：\n",
    "- **交互模式**：直接在 Python 解释器中运行代码。\n",
    "- **脚本模式**：将代码写在 `.py` 文件中并执行。\n",
    "\n",
    "让我们从一个简单的打印语句开始。"
   ]
  },
  {
   "cell_type": "code",
   "execution_count": 13,
   "metadata": {},
   "outputs": [
    {
     "name": "stdout",
     "output_type": "stream",
     "text": [
      "Hello, World!\n"
     ]
    }
   ],
   "source": [
    "# Hello, World! 示例\n",
    "print(\"Hello, World!\")"
   ]
  },
  {
   "cell_type": "markdown",
   "metadata": {},
   "source": [
    "# 基本数据类型和变量\n",
    "Python 支持多种数据类型，并允许你将值赋给变量。以下是一些基本类型：\n",
    "- **数字**：整数、浮点数\n",
    "- **字符串**：文本\n",
    "- **布尔值**：True 或 False\n",
    "\n",
    "让我们看看一些例子。"
   ]
  },
  {
   "cell_type": "code",
   "execution_count": 14,
   "metadata": {},
   "outputs": [
    {
     "name": "stdout",
     "output_type": "stream",
     "text": [
      "x: 5, y: Hello, z: True, a: 3.14\n"
     ]
    }
   ],
   "source": [
    "# 变量赋值\n",
    "x = 5  # 整数\n",
    "y = \"Hello\"  # 字符串\n",
    "z = True  # 布尔值\n",
    "a = 3.14  # 浮点数\n",
    "print(f\"x: {x}, y: {y}, z: {z}, a: {a}\")"
   ]
  },
  {
   "cell_type": "markdown",
   "metadata": {},
   "source": [
    "# 基本运算\n",
    "\n",
    "Python 支持各种数据类型的运算。以下是一些例子：\n",
    "- **算术运算**：加法、减法、乘法、除法\n",
    "- **字符串操作**：连接、重复\n",
    "- **逻辑运算**：AND、OR、NOT\n",
    "\n",
    "让我们看看一些代码示例。"
   ]
  },
  {
   "cell_type": "code",
   "execution_count": null,
   "metadata": {},
   "outputs": [],
   "source": [
    "# 算术运算\n",
    "add = 10 + 5\n",
    "sub = 10 - 5\n",
    "mul = 10 * 5\n",
    "div = 10 / 5\n",
    "floordiv = 10 // 3\n",
    "mod = 10 % 3\n",
    "exp = 2 ** 3\n",
    "print(f\"加法: {add}, 减法: {sub}, 乘法: {mul}, 除法: {div}\")\n",
    "print(f\"地板除: {floordiv}, 取模: {mod}, 指数: {exp}\")"
   ]
  },
  {
   "cell_type": "code",
   "execution_count": null,
   "metadata": {},
   "outputs": [],
   "source": [
    "# 字符串操作\n",
    "str1 = \"Python\"\n",
    "str2 = \" 很有趣\"\n",
    "concatenated = str1 + str2\n",
    "repeated = str1 * 3\n",
    "print(f\"连接: {concatenated}, 重复: {repeated}\")"
   ]
  },
  {
   "cell_type": "code",
   "execution_count": null,
   "metadata": {},
   "outputs": [],
   "source": [
    "# 逻辑运算\n",
    "and_op = True and False\n",
    "or_op = True or False\n",
    "not_op = not True\n",
    "print(f\"AND: {and_op}, OR: {or_op}, NOT: {not_op}\")"
   ]
  },
  {
   "cell_type": "markdown",
   "metadata": {},
   "source": [
    "# 控制结构\n",
    "Python 提供了控制结构，如条件语句和循环，以控制程序的流程。\n",
    "\n",
    "## 条件语句\n",
    "使用 `if`、`elif` 和 `else` 进行决策。\n",
    "\n",
    "## 循环\n",
    "Python 支持 `for` 和 `while` 循环以进行重复执行。\n",
    "\n",
    "让我们看看一些例子。"
   ]
  },
  {
   "cell_type": "code",
   "execution_count": 15,
   "metadata": {},
   "outputs": [
    {
     "name": "stdout",
     "output_type": "stream",
     "text": [
      "正数\n"
     ]
    }
   ],
   "source": [
    "# If-elif-else\n",
    "num = 7\n",
    "if num > 0:\n",
    "    print(\"正数\")\n",
    "elif num == 0:\n",
    "    print(\"零\")\n",
    "else:\n",
    "    print(\"负数\")"
   ]
  },
  {
   "cell_type": "code",
   "execution_count": 16,
   "metadata": {},
   "outputs": [
    {
     "name": "stdout",
     "output_type": "stream",
     "text": [
      "For 循环迭代: 0\n",
      "For 循环迭代: 1\n",
      "For 循环迭代: 2\n",
      "For 循环迭代: 3\n",
      "For 循环迭代: 4\n"
     ]
    }
   ],
   "source": [
    "# For 循环\n",
    "for i in range(5): # 0, 1, 2, 3, 4\n",
    "    print(f\"For 循环迭代: {i}\")"
   ]
  },
  {
   "cell_type": "code",
   "execution_count": null,
   "metadata": {},
   "outputs": [],
   "source": [
    "# While 循环\n",
    "count = 0\n",
    "while count < 5:\n",
    "    print(f\"While 循环迭代: {count}\")\n",
    "    count += 1"
   ]
  },
  {
   "cell_type": "code",
   "execution_count": null,
   "metadata": {},
   "outputs": [],
   "source": [
    "# 嵌套循环\n",
    "for i in range(3):\n",
    "    for j in range(2):\n",
    "        print(f\"嵌套循环 i: {i}, j: {j}\")"
   ]
  },
  {
   "cell_type": "markdown",
   "metadata": {},
   "source": [
    "# 函数\n",
    "函数是执行特定任务的代码块。它们有助于组织代码并重复使用。你可以使用 `def` 关键字定义函数。\n",
    "\n",
    "## 参数和返回值\n",
    "函数可以接受参数并返回值。\n",
    "\n",
    "## 默认参数\n",
    "你可以为参数定义默认值。\n",
    "\n",
    "## 可变参数\n",
    "Python 允许函数接受可变数量的参数，使用 `*args` 和 `**kwargs`。\n",
    "\n",
    "让我们看看一些例子。"
   ]
  },
  {
   "cell_type": "code",
   "execution_count": null,
   "metadata": {},
   "outputs": [],
   "source": [
    "print(\"Hello, Alice\")"
   ]
  },
  {
   "cell_type": "code",
   "execution_count": null,
   "metadata": {},
   "outputs": [],
   "source": [
    "# 基本函数\n",
    "def greet(name):\n",
    "    return f\"Hello, {name}\"\n",
    "print(greet(\"Bot\"))"
   ]
  },
  {
   "cell_type": "code",
   "execution_count": null,
   "metadata": {},
   "outputs": [],
   "source": [
    "# 带有多个参数和默认参数的函数\n",
    "def add_numbers(a, b=10):\n",
    "    return a + b\n",
    "print(add_numbers(5))\n",
    "print(add_numbers(5, 15))"
   ]
  },
  {
   "cell_type": "code",
   "execution_count": null,
   "metadata": {},
   "outputs": [],
   "source": [
    "# 带有可变数量参数的函数\n",
    "def multiply(*args):\n",
    "    result = 1\n",
    "    for num in args:\n",
    "        result *= num\n",
    "    return result\n",
    "print(multiply(1, 2, 3, 4))"
   ]
  },
  {
   "cell_type": "code",
   "execution_count": 19,
   "metadata": {},
   "outputs": [
    {
     "name": "stdout",
     "output_type": "stream",
     "text": [
      "Name: Alice, Age: 50, city: New York, hobby: Reading\n"
     ]
    }
   ],
   "source": [
    "# 带有关键字参数的函数\n",
    "def describe_person(name, age, **kwargs):\n",
    "    description = f\"Name: {name}, Age: {age}\"\n",
    "    for key, value in kwargs.items():\n",
    "        description += f\", {key}: {value}\"\n",
    "    return description\n",
    "print(describe_person(\"Alice\", 50, city=\"New York\", hobby=\"Reading\"))"
   ]
  },
  {
   "cell_type": "markdown",
   "metadata": {},
   "source": [
    "# 数据结构\n",
    "Python 提供了各种数据结构来有效地存储和操作数据。最常用的数据结构有：\n",
    "- **列表**：有序的、可变的元素集合\n",
    "- **元组**：有序的、不可变的元素集合\n",
    "- **字典**：键值对\n",
    "- **集合**：无序的唯一元素集合\n",
    "\n",
    "让我们通过一些例子来探索这些数据结构。"
   ]
  },
  {
   "cell_type": "code",
   "execution_count": null,
   "metadata": {},
   "outputs": [],
   "source": [
    "# 列表操作\n",
    "my_list = [1, 2, 3, 4, 5]\n",
    "my_list.append(6)\n",
    "my_list.remove(2)\n",
    "my_list[0] = 0\n",
    "print(f\"修改后的列表: {my_list}\")"
   ]
  },
  {
   "cell_type": "code",
   "execution_count": null,
   "metadata": {},
   "outputs": [],
   "source": [
    "# 元组操作\n",
    "my_tuple = (1, 2, 3, 4, 5)\n",
    "print(f\"元组: {my_tuple}, 长度: {len(my_tuple)}, 第一个元素: {my_tuple[0]}\")"
   ]
  },
  {
   "cell_type": "code",
   "execution_count": null,
   "metadata": {},
   "outputs": [],
   "source": [
    "# 字典操作\n",
    "my_dict = {\"a\": 1, \"b\": 2, \"c\": 3}\n",
    "my_dict[\"d\"] = 4\n",
    "del my_dict[\"a\"]\n",
    "print(f\"修改后的字典: {my_dict}\")"
   ]
  },
  {
   "cell_type": "code",
   "execution_count": null,
   "metadata": {},
   "outputs": [],
   "source": [
    "# 集合操作\n",
    "my_set = {1, 2, 3, 4, 5}\n",
    "my_set.add(6)\n",
    "my_set.remove(3)\n",
    "print(f\"修改后的集合: {my_set}\")"
   ]
  },
  {
   "cell_type": "code",
   "execution_count": null,
   "metadata": {},
   "outputs": [],
   "source": [
    "# 列表推导式\n",
    "squared = [x**2 for x in my_list if x % 2 == 0]\n",
    "print(f\"平方后的偶数: {squared}\")"
   ]
  },
  {
   "cell_type": "code",
   "execution_count": null,
   "metadata": {},
   "outputs": [],
   "source": [
    "# 字典推导式\n",
    "squared_dict = {x: x**2 for x in range(5)}\n",
    "print(f\"平方字典: {squared_dict}\")"
   ]
  },
  {
   "cell_type": "markdown",
   "metadata": {},
   "source": [
    "# 文件处理\n",
    "Python 允许你读取和写入文件。这对于存储和检索数据非常有用。\n",
    "\n",
    "## 写入文件\n",
    "使用 `open` 函数和写模式 (`'w'`) 来创建并写入文件。\n",
    "\n",
    "## 读取文件\n",
    "使用 `open` 函数和读模式 (`'r'`) 来读取文件。\n",
    "\n",
    "## 追加文件\n",
    "使用 `open` 函数和追加模式 (`'a'`) 来向已有文件追加数据。\n",
    "\n",
    "让我们看看一些例子。"
   ]
  },
  {
   "cell_type": "code",
   "execution_count": 20,
   "metadata": {},
   "outputs": [],
   "source": [
    "# 写入文件\n",
    "with open(\"example.txt\", \"w\") as f:\n",
    "    f.write(\"Hello, World!\\n\")\n",
    "    f.write(\"Writing to a file in Python.\")"
   ]
  },
  {
   "cell_type": "code",
   "execution_count": null,
   "metadata": {},
   "outputs": [],
   "source": [
    "# 读取文件\n",
    "with open(\"example.txt\", \"r\") as f:\n",
    "    content = f.read()\n",
    "print(f\"文件内容:\\n{content}\")"
   ]
  },
  {
   "cell_type": "code",
   "execution_count": null,
   "metadata": {},
   "outputs": [],
   "source": [
    "# 追加文件\n",
    "with open(\"example.txt\", \"a\") as f:\n",
    "    f.write(\"\\nAppending new line.\")"
   ]
  },
  {
   "cell_type": "code",
   "execution_count": null,
   "metadata": {},
   "outputs": [],
   "source": [
    "# 逐行读取文件\n",
    "with open(\"example.txt\", \"r\") as f:\n",
    "    lines = f.readlines()\n",
    "print(f\"文件行内容: {lines}\")"
   ]
  },
  {
   "cell_type": "markdown",
   "metadata": {},
   "source": [
    "# 错误处理\n",
    "代码中可能会发生错误，Python 提供了机制来优雅地处理这些错误。\n",
    "\n",
    "## Try-Except 块\n",
    "使用 `try` 和 `except` 块来处理异常。\n",
    "\n",
    "## Finally 子句\n",
    "无论是否发生异常，`finally` 子句都会执行。\n",
    "\n",
    "## 自定义异常\n",
    "你可以通过继承 `Exception` 类来定义自己的自定义异常。\n",
    "\n",
    "让我们看看一些例子。"
   ]
  },
  {
   "cell_type": "code",
   "execution_count": null,
   "metadata": {},
   "outputs": [],
   "source": [
    "# 使用 try-except-finally 进行异常处理\n",
    "try:\n",
    "    x = int(input(\"请输入一个数字: \"))\n",
    "    y = 1 / x\n",
    "except ValueError:\n",
    "    print(\"输入无效。请输入一个有效的数字。\")\n",
    "except ZeroDivisionError:\n",
    "    print(\"不能除以零。\")\n",
    "else:\n",
    "    print(f\"结果: {y}\")\n",
    "finally:\n",
    "    print(\"执行完成。\")"
   ]
  },
  {
   "cell_type": "code",
   "execution_count": null,
   "metadata": {},
   "outputs": [],
   "source": []
  },
  {
   "cell_type": "code",
   "execution_count": null,
   "metadata": {},
   "outputs": [],
   "source": [
    "# 自定义异常\n",
    "class CustomError(Exception):\n",
    "    pass\n",
    "\n",
    "try:\n",
    "    raise CustomError(\"这是一个自定义错误。\")\n",
    "except CustomError as e:\n",
    "    print(e)"
   ]
  },
  {
   "cell_type": "markdown",
   "metadata": {},
   "source": [
    "# 模块和包\n",
    "Python 的功能可以通过模块和包进行扩展。模块是包含 Python 代码的文件，包是模块的集合。\n",
    "\n",
    "## 导入模块\n",
    "使用 `import` 语句在代码中包含模块。\n",
    "\n",
    "## 安装包\n",
    "使用 `pip` 等工具安装第三方包。\n",
    "\n",
    "让我们看看一些例子。"
   ]
  },
  {
   "cell_type": "code",
   "execution_count": null,
   "metadata": {},
   "outputs": [],
   "source": [
    "# 导入标准库模块\n",
    "import math\n",
    "print(f\"16 的平方根: {math.sqrt(16)}\")\n",
    "print(f\"圆周率值: {math.pi}\")"
   ]
  },
  {
   "cell_type": "code",
   "execution_count": 27,
   "metadata": {},
   "outputs": [
    {
     "name": "stdout",
     "output_type": "stream",
     "text": [
      "GitHub API 状态: 200\n"
     ]
    }
   ],
   "source": [
    "# 使用第三方包 (例如 requests 进行 HTTP 请求)\n",
    "try:\n",
    "    import requests\n",
    "except ImportError:\n",
    "    print(\"Requests 库未安装。\")\n",
    "else:\n",
    "    response = requests.get(\"https://api.github.com\")\n",
    "    print(f\"GitHub API 状态: {response.status_code}\")"
   ]
  },
  {
   "cell_type": "markdown",
   "metadata": {},
   "source": [
    "# 类和对象简介\n",
    "Python 是一种面向对象的编程语言。这意味着它允许定义类，类是创建对象的蓝图。\n",
    "\n",
    "## 类和对象\n",
    "类定义对象的属性和行为。对象是类的实例。\n",
    "\n",
    "## 方法和属性\n",
    "方法是定义在类中的函数，属性是属于对象的变量。\n",
    "\n",
    "## 继承\n",
    "类可以从其他类继承属性和方法。\n",
    "\n",
    "让我们看看一些例子。"
   ]
  },
  {
   "cell_type": "code",
   "execution_count": null,
   "metadata": {},
   "outputs": [],
   "source": [
    "# 基本类\n",
    "class Dog:\n",
    "    def __init__(self, name, age):\n",
    "        self.name = name\n",
    "        self.age = age\n",
    "\n",
    "    def bark(self):\n",
    "        return \"Woof!\"\n",
    "\n",
    "my_dog = Dog(\"Fido\", 2)\n",
    "print(f\"我的狗的名字是 {my_dog.name}，他 {my_dog.age} 岁。\")\n",
    "print(my_dog.bark())"
   ]
  },
  {
   "cell_type": "code",
   "execution_count": null,
   "metadata": {},
   "outputs": [],
   "source": [
    "# 继承和方法重写\n",
    "class Animal:\n",
    "    def __init__(self, name):\n",
    "        self.name = name\n",
    "\n",
    "    def sound(self):\n",
    "        raise NotImplementedError(\"子类必须实现抽象方法\")\n",
    "\n",
    "class Cat(Animal):\n",
    "    def sound(self):\n",
    "        return \"Meow\"\n",
    "\n",
    "my_cat = Cat(\"Whiskers\")\n",
    "print(f\"我的猫的名字是 {my_cat.name}\")\n",
    "print(my_cat.sound())"
   ]
  }
 ],
 "metadata": {
  "kernelspec": {
   "display_name": "Python 3",
   "language": "python",
   "name": "python3"
  },
  "language_info": {
   "codemirror_mode": {
    "name": "ipython",
    "version": 3
   },
   "file_extension": ".py",
   "mimetype": "text/x-python",
   "name": "python",
   "nbconvert_exporter": "python",
   "pygments_lexer": "ipython3",
   "version": "3.8.10"
  }
 },
 "nbformat": 4,
 "nbformat_minor": 4
}
