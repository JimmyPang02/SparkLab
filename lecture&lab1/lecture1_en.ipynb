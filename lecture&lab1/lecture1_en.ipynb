{
 "cells": [
  {
   "cell_type": "markdown",
   "metadata": {},
   "source": [
    "# Introduction to Python\n",
    "Python is a high-level, interpreted, and general-purpose programming language. Its design philosophy emphasizes code readability with the use of significant indentation.\n",
    "\n",
    "## Running Python Scripts\n",
    "You can run Python scripts in various ways:\n",
    "- **Interactive mode**: Directly in the Python interpreter.\n",
    "- **Script mode**: Writing code in a `.py` file and executing it.\n",
    "\n",
    "Let's start with a simple print statement in Python."
   ]
  },
  {
   "cell_type": "code",
   "execution_count": null,
   "metadata": {},
   "outputs": [],
   "source": [
    "# Hello, World! example\n",
    "print(\"Hello, World!\")"
   ]
  },
  {
   "cell_type": "markdown",
   "metadata": {},
   "source": [
    "# Basic Data Types and Variables\n",
    "Python supports several data types and allows you to assign values to variables. Here are some of the basic types:\n",
    "- **Numbers**: Integers, floating-point numbers\n",
    "- **Strings**: Text\n",
    "- **Booleans**: True or False\n",
    "\n",
    "Let's see some examples."
   ]
  },
  {
   "cell_type": "code",
   "execution_count": null,
   "metadata": {},
   "outputs": [],
   "source": [
    "# Variable assignment\n",
    "x = 5  # Integer\n",
    "y = \"Hello\"  # String\n",
    "z = True  # Boolean\n",
    "a = 3.14  # Floating-point number\n",
    "print(f\"x: {x}, y: {y}, z: {z}, a: {a}\")"
   ]
  },
  {
   "cell_type": "markdown",
   "metadata": {},
   "source": [
    "# Basic Operations\n",
    "Python supports various operations on data types. Here are some examples:\n",
    "- **Arithmetic operations**: Addition, subtraction, multiplication, division\n",
    "- **String operations**: Concatenation, repetition\n",
    "- **Logical operations**: AND, OR, NOT\n",
    "\n",
    "Let's look at some code examples."
   ]
  },
  {
   "cell_type": "code",
   "execution_count": null,
   "metadata": {},
   "outputs": [],
   "source": [
    "# Arithmetic operations\n",
    "add = 10 + 5\n",
    "sub = 10 - 5\n",
    "mul = 10 * 5\n",
    "div = 10 / 5\n",
    "floordiv = 10 // 3\n",
    "mod = 10 % 3\n",
    "exp = 2 ** 3\n",
    "print(f\"Addition: {add}, Subtraction: {sub}, Multiplication: {mul}, Division: {div}\")\n",
    "print(f\"Floor Division: {floordiv}, Modulus: {mod}, Exponent: {exp}\")"
   ]
  },
  {
   "cell_type": "code",
   "execution_count": null,
   "metadata": {},
   "outputs": [],
   "source": [
    "# String operations\n",
    "str1 = \"Python\"\n",
    "str2 = \" is fun\"\n",
    "concatenated = str1 + str2\n",
    "repeated = str1 * 3\n",
    "print(f\"Concatenated: {concatenated}, Repeated: {repeated}\")"
   ]
  },
  {
   "cell_type": "code",
   "execution_count": null,
   "metadata": {},
   "outputs": [],
   "source": [
    "# Logical operations\n",
    "and_op = True and False\n",
    "or_op = True or False\n",
    "not_op = not True\n",
    "print(f\"AND: {and_op}, OR: {or_op}, NOT: {not_op}\")"
   ]
  },
  {
   "cell_type": "markdown",
   "metadata": {},
   "source": [
    "# Control Structures\n",
    "Python provides control structures such as conditional statements and loops to control the flow of your program.\n",
    "\n",
    "## Conditional Statements\n",
    "Use `if`, `elif`, and `else` to make decisions in your code.\n",
    "\n",
    "## Loops\n",
    "Python supports `for` and `while` loops for repeated execution.\n",
    "\n",
    "Let's see some examples."
   ]
  },
  {
   "cell_type": "code",
   "execution_count": null,
   "metadata": {},
   "outputs": [],
   "source": [
    "# If-elif-else\n",
    "num = 7\n",
    "if num > 0:\n",
    "    print(\"Positive\")\n",
    "elif num == 0:\n",
    "    print(\"Zero\")\n",
    "else:\n",
    "    print(\"Negative\")"
   ]
  },
  {
   "cell_type": "code",
   "execution_count": null,
   "metadata": {},
   "outputs": [],
   "source": [
    "# For loop\n",
    "for i in range(5):\n",
    "    print(f\"For loop iteration: {i}\")"
   ]
  },
  {
   "cell_type": "code",
   "execution_count": null,
   "metadata": {},
   "outputs": [],
   "source": [
    "# While loop\n",
    "count = 0\n",
    "while count < 5:\n",
    "    print(f\"While loop iteration: {count}\")\n",
    "    count += 1"
   ]
  },
  {
   "cell_type": "code",
   "execution_count": null,
   "metadata": {},
   "outputs": [],
   "source": [
    "# Nested loops\n",
    "for i in range(3):\n",
    "    for j in range(2):\n",
    "        print(f\"Nested loop i: {i}, j: {j}\")"
   ]
  },
  {
   "cell_type": "markdown",
   "metadata": {},
   "source": [
    "# Functions\n",
    "Functions are blocks of code that perform a specific task. They help in organizing code and reusing it. You can define functions using the `def` keyword.\n",
    "\n",
    "## Parameters and Return Values\n",
    "Functions can take parameters and return values.\n",
    "\n",
    "## Default Parameters\n",
    "You can define default values for parameters.\n",
    "\n",
    "## Variable Number of Arguments\n",
    "Python allows functions to accept a variable number of arguments using `*args` and `**kwargs`.\n",
    "\n",
    "Let's see some examples."
   ]
  },
  {
   "cell_type": "code",
   "execution_count": null,
   "metadata": {},
   "outputs": [],
   "source": [
    "# Basic function\n",
    "def greet(name):\n",
    "    return f\"Hello, {name}\"\n",
    "print(greet(\"Alice\"))"
   ]
  },
  {
   "cell_type": "code",
   "execution_count": null,
   "metadata": {},
   "outputs": [],
   "source": [
    "# Function with multiple parameters and default parameter\n",
    "def add_numbers(a, b=10):\n",
    "    return a + b\n",
    "print(add_numbers(5))\n",
    "print(add_numbers(5, 15))"
   ]
  },
  {
   "cell_type": "code",
   "execution_count": null,
   "metadata": {},
   "outputs": [],
   "source": [
    "# Function with variable number of arguments\n",
    "def multiply(*args):\n",
    "    result = 1\n",
    "    for num in args:\n",
    "        result *= num\n",
    "    return result\n",
    "print(multiply(1, 2, 3, 4))"
   ]
  },
  {
   "cell_type": "code",
   "execution_count": null,
   "metadata": {},
   "outputs": [],
   "source": [
    "# Function with keyword arguments\n",
    "def describe_person(name, age, **kwargs):\n",
    "    description = f\"Name: {name}, Age: {age}\"\n",
    "    for key, value in kwargs.items():\n",
    "        description += f\", {key}: {value}\"\n",
    "    return description\n",
    "print(describe_person(\"Alice\", 30, city=\"New York\", hobby=\"Reading\"))"
   ]
  },
  {
   "cell_type": "markdown",
   "metadata": {},
   "source": [
    "# Data Structures\n",
    "Python provides various data structures to store and manipulate data efficiently. The most commonly used data structures are:\n",
    "- **Lists**: Ordered, mutable collections of items\n",
    "- **Tuples**: Ordered, immutable collections of items\n",
    "- **Dictionaries**: Key-value pairs\n",
    "- **Sets**: Unordered collections of unique items\n",
    "\n",
    "Let's explore these data structures with some examples."
   ]
  },
  {
   "cell_type": "code",
   "execution_count": null,
   "metadata": {},
   "outputs": [],
   "source": [
    "# List operations\n",
    "my_list = [1, 2, 3, 4, 5]\n",
    "my_list.append(6)\n",
    "my_list.remove(2)\n",
    "my_list[0] = 0\n",
    "print(f\"Modified list: {my_list}\")"
   ]
  },
  {
   "cell_type": "code",
   "execution_count": null,
   "metadata": {},
   "outputs": [],
   "source": [
    "# Tuple operations\n",
    "my_tuple = (1, 2, 3, 4, 5)\n",
    "print(f\"Tuple: {my_tuple}, Length: {len(my_tuple)}, First element: {my_tuple[0]}\")"
   ]
  },
  {
   "cell_type": "code",
   "execution_count": null,
   "metadata": {},
   "outputs": [],
   "source": [
    "# Dictionary operations\n",
    "my_dict = {\"a\": 1, \"b\": 2, \"c\": 3}\n",
    "my_dict[\"d\"] = 4\n",
    "del my_dict[\"a\"]\n",
    "print(f\"Modified dictionary: {my_dict}\")"
   ]
  },
  {
   "cell_type": "code",
   "execution_count": null,
   "metadata": {},
   "outputs": [],
   "source": [
    "# Set operations\n",
    "my_set = {1, 2, 3, 4, 5}\n",
    "my_set.add(6)\n",
    "my_set.remove(3)\n",
    "print(f\"Modified set: {my_set}\")"
   ]
  },
  {
   "cell_type": "code",
   "execution_count": null,
   "metadata": {},
   "outputs": [],
   "source": [
    "# List comprehensions\n",
    "squared = [x**2 for x in my_list if x % 2 == 0]\n",
    "print(f\"Squared even numbers: {squared}\")"
   ]
  },
  {
   "cell_type": "code",
   "execution_count": null,
   "metadata": {},
   "outputs": [],
   "source": [
    "# Dictionary comprehensions\n",
    "squared_dict = {x: x**2 for x in range(5)}\n",
    "print(f\"Squared dictionary: {squared_dict}\")"
   ]
  },
  {
   "cell_type": "markdown",
   "metadata": {},
   "source": [
    "# File Handling\n",
    "Python allows you to read from and write to files. This is useful for storing and retrieving data.\n",
    "\n",
    "## Writing to a File\n",
    "Use the `open` function with the write mode (`'w'`) to create and write to a file.\n",
    "\n",
    "## Reading from a File\n",
    "Use the `open` function with the read mode (`'r'`) to read from a file.\n",
    "\n",
    "## Appending to a File\n",
    "Use the `open` function with the append mode (`'a'`) to append data to an existing file.\n",
    "\n",
    "Let's see some examples."
   ]
  },
  {
   "cell_type": "code",
   "execution_count": 1,
   "metadata": {},
   "outputs": [],
   "source": [
    "# Writing to a file\n",
    "with open(\"example.txt\", \"w\") as f:\n",
    "    f.write(\"Hello, World!\\n\")\n",
    "    f.write(\"Writing to a file in Python.\")"
   ]
  },
  {
   "cell_type": "code",
   "execution_count": null,
   "metadata": {},
   "outputs": [],
   "source": [
    "# Reading from a file\n",
    "with open(\"example.txt\", \"r\") as f:\n",
    "    content = f.read()\n",
    "print(f\"File content:\\n{content}\")"
   ]
  },
  {
   "cell_type": "code",
   "execution_count": null,
   "metadata": {},
   "outputs": [],
   "source": [
    "# Appending to a file\n",
    "with open(\"example.txt\", \"a\") as f:\n",
    "    f.write(\"\\nAppending new line.\")"
   ]
  },
  {
   "cell_type": "code",
   "execution_count": null,
   "metadata": {},
   "outputs": [],
   "source": [
    "# Reading lines from a file\n",
    "with open(\"example.txt\", \"r\") as f:\n",
    "    lines = f.readlines()\n",
    "print(f\"File lines: {lines}\")"
   ]
  },
  {
   "cell_type": "markdown",
   "metadata": {},
   "source": [
    "# Error Handling\n",
    "Errors can occur in your code, and Python provides mechanisms to handle these errors gracefully.\n",
    "\n",
    "## Try-Except Block\n",
    "Use `try` and `except` blocks to handle exceptions.\n",
    "\n",
    "## Finally Clause\n",
    "The `finally` clause is executed regardless of whether an exception occurred or not.\n",
    "\n",
    "## Custom Exceptions\n",
    "You can define your own custom exceptions by inheriting from the `Exception` class.\n",
    "\n",
    "Let's see some examples."
   ]
  },
  {
   "cell_type": "code",
   "execution_count": null,
   "metadata": {},
   "outputs": [],
   "source": [
    "# Exception handling with try-except-finally\n",
    "try:\n",
    "    x = int(input(\"Enter a number: \"))\n",
    "    y = 1 / x\n",
    "except ValueError:\n",
    "    print(\"Invalid input. Please enter a valid number.\")\n",
    "except ZeroDivisionError:\n",
    "    print(\"Cannot divide by zero.\")\n",
    "else:\n",
    "    print(f\"Result: {y}\")\n",
    "finally:\n",
    "    print(\"Execution complete.\")"
   ]
  },
  {
   "cell_type": "code",
   "execution_count": 3,
   "metadata": {},
   "outputs": [
    {
     "name": "stdout",
     "output_type": "stream",
     "text": [
      "This is a custom error.\n"
     ]
    }
   ],
   "source": [
    "# Custom exception\n",
    "class CustomError(Exception):\n",
    "    pass\n",
    "\n",
    "try:\n",
    "    raise CustomError(\"This is a custom error.\")\n",
    "except CustomError as e:\n",
    "    print(e)"
   ]
  },
  {
   "cell_type": "markdown",
   "metadata": {},
   "source": [
    "# Modules and Packages\n",
    "Python's functionality can be extended using modules and packages. Modules are files containing Python code, and packages are collections of modules.\n",
    "\n",
    "## Importing Modules\n",
    "Use the `import` statement to include a module in your code.\n",
    "\n",
    "## Installing Packages\n",
    "Use tools like `pip` to install third-party packages.\n",
    "\n",
    "Let's see some examples."
   ]
  },
  {
   "cell_type": "code",
   "execution_count": 4,
   "metadata": {},
   "outputs": [
    {
     "name": "stdout",
     "output_type": "stream",
     "text": [
      "Square root of 16: 4.0\n",
      "Pi value: 3.141592653589793\n"
     ]
    }
   ],
   "source": [
    "# Importing a standard library module\n",
    "import math\n",
    "print(f\"Square root of 16: {math.sqrt(16)}\")\n",
    "print(f\"Pi value: {math.pi}\")"
   ]
  },
  {
   "cell_type": "code",
   "execution_count": 5,
   "metadata": {},
   "outputs": [
    {
     "name": "stdout",
     "output_type": "stream",
     "text": [
      "GitHub API status: 200\n"
     ]
    }
   ],
   "source": [
    "# Using a third-party package (e.g., requests for HTTP requests)\n",
    "try:\n",
    "    import requests\n",
    "except ImportError:\n",
    "    print(\"Requests library is not installed.\")\n",
    "else:\n",
    "    response = requests.get(\"https://api.github.com\")\n",
    "    print(f\"GitHub API status: {response.status_code}\")"
   ]
  },
  {
   "cell_type": "markdown",
   "metadata": {},
   "source": [
    "# Introduction to Classes and Objects\n",
    "Python is an object-oriented programming language. This means that it allows the definition of classes, which are blueprints for creating objects.\n",
    "\n",
    "## Classes and Objects\n",
    "A class defines the properties and behaviors of objects. An object is an instance of a class.\n",
    "\n",
    "## Methods and Attributes\n",
    "Methods are functions defined within a class, and attributes are variables that belong to an object.\n",
    "\n",
    "## Inheritance\n",
    "Classes can inherit properties and methods from other classes.\n",
    "\n",
    "Let's see some examples."
   ]
  },
  {
   "cell_type": "code",
   "execution_count": 6,
   "metadata": {},
   "outputs": [
    {
     "name": "stdout",
     "output_type": "stream",
     "text": [
      "My dog's name is Fido and he is 2 years old.\n",
      "Woof!\n"
     ]
    }
   ],
   "source": [
    "# Basic class\n",
    "class Dog:\n",
    "    def __init__(self, name, age):\n",
    "        self.name = name\n",
    "        self.age = age\n",
    "\n",
    "    def bark(self):\n",
    "        return \"Woof!\"\n",
    "\n",
    "my_dog = Dog(\"Fido\", 2)\n",
    "print(f\"My dog's name is {my_dog.name} and he is {my_dog.age} years old.\")\n",
    "print(my_dog.bark())"
   ]
  },
  {
   "cell_type": "code",
   "execution_count": 7,
   "metadata": {},
   "outputs": [
    {
     "name": "stdout",
     "output_type": "stream",
     "text": [
      "My cat's name is Whiskers\n",
      "Meow\n"
     ]
    }
   ],
   "source": [
    "# Inheritance and method overriding\n",
    "class Animal:\n",
    "    def __init__(self, name):\n",
    "        self.name = name\n",
    "\n",
    "    def sound(self):\n",
    "        raise NotImplementedError(\"Subclass must implement abstract method\")\n",
    "\n",
    "class Cat(Animal):\n",
    "    def sound(self):\n",
    "        return \"Meow\"\n",
    "\n",
    "my_cat = Cat(\"Whiskers\")\n",
    "print(f\"My cat's name is {my_cat.name}\")\n",
    "print(my_cat.sound())"
   ]
  }
 ],
 "metadata": {
  "kernelspec": {
   "display_name": "Python 3",
   "language": "python",
   "name": "python3"
  },
  "language_info": {
   "codemirror_mode": {
    "name": "ipython",
    "version": 3
   },
   "file_extension": ".py",
   "mimetype": "text/x-python",
   "name": "python",
   "nbconvert_exporter": "python",
   "pygments_lexer": "ipython3",
   "version": "3.8.10"
  }
 },
 "nbformat": 4,
 "nbformat_minor": 4
}
